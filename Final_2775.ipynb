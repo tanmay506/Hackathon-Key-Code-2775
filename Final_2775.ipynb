{
  "nbformat": 4,
  "nbformat_minor": 0,
  "metadata": {
    "colab": {
      "provenance": []
    },
    "kernelspec": {
      "name": "python3",
      "display_name": "Python 3"
    },
    "language_info": {
      "name": "python"
    }
  },
  "cells": [
    {
      "cell_type": "code",
      "execution_count": 1,
      "metadata": {
        "id": "KReJaYnzgIUI"
      },
      "outputs": [],
      "source": [
        "# Import necessary libraries\n",
        "import pandas as pd\n",
        "from sklearn.model_selection import train_test_split, GridSearchCV\n",
        "from sklearn.ensemble import RandomForestClassifier\n",
        "from sklearn.pipeline import Pipeline\n",
        "from sklearn.compose import ColumnTransformer\n",
        "from sklearn.preprocessing import StandardScaler, OneHotEncoder\n",
        "from sklearn.impute import SimpleImputer\n",
        "from sklearn.metrics import f1_score, classification_report\n",
        "import joblib"
      ]
    },
    {
      "cell_type": "code",
      "source": [
        "# Feature engineering function\n",
        "def feature_engineering(df):\n",
        "    df['age_group'] = pd.cut(df['age'], bins=[0, 30, 50, 100], labels=['<30', '30-50', '>50'])\n",
        "    df['balance_bin'] = pd.cut(df['balance'], bins=[-float('inf'), 0, 1000, 5000, float('inf')],\n",
        "                               labels=['negative', 'low', 'medium', 'high'])\n",
        "    df['balance_duration_ratio'] = df['balance'] / (df['duration'] + 1)\n",
        "    df['age_balance_interaction'] = df['age'] * df['balance']\n",
        "    df['previous_contacted'] = (df['pdays'] != -1).astype(int)\n",
        "    df['engagement_rate'] = df['previous'] / (df['campaign'] + 1)\n",
        "    return df\n",
        "\n",
        "\n",
        "# Load the train and test datasets\n",
        "train_file_path = \"cleaned_file.csv\"\n",
        "test_file_path = \"test.csv\"\n",
        "train_data = pd.read_csv(\"/content/train (1).csv\")\n",
        "test_data = pd.read_csv(\"/content/test.csv\")\n",
        "\n",
        "# Apply feature engineering\n",
        "train_data = feature_engineering(train_data)\n",
        "test_data = feature_engineering(test_data)\n",
        "\n",
        "# Define target and features\n",
        "target = 'y'\n",
        "features = [col for col in train_data.columns if col != target]\n",
        "\n",
        "# Separate numeric and categorical features\n",
        "numeric_features = train_data[features].select_dtypes(include=['int64', 'float64']).columns\n",
        "categorical_features = train_data[features].select_dtypes(include=['object', 'category']).columns\n",
        "\n",
        "# Define preprocessing pipelines\n",
        "numeric_transformer = Pipeline(steps=[\n",
        "    ('imputer', SimpleImputer(strategy='median')),\n",
        "    ('scaler', StandardScaler())\n",
        "])\n",
        "\n",
        "categorical_transformer = Pipeline(steps=[\n",
        "    ('imputer', SimpleImputer(strategy='most_frequent')),\n",
        "    ('onehot', OneHotEncoder(handle_unknown='ignore'))\n",
        "])\n",
        "\n",
        "preprocessor = ColumnTransformer(\n",
        "    transformers=[\n",
        "        ('num', numeric_transformer, numeric_features),\n",
        "        ('cat', categorical_transformer, categorical_features)\n",
        "    ]\n",
        ")\n",
        "\n",
        "# Define the model with class weights\n",
        "model = RandomForestClassifier(random_state=42, n_jobs=-1, class_weight='balanced')\n",
        "\n",
        "# Combine preprocessing and model in a pipeline\n",
        "pipeline = Pipeline(steps=[\n",
        "    ('preprocessor', preprocessor),\n",
        "    ('classifier', model)\n",
        "])\n",
        "\n",
        "# Split the dataset\n",
        "X = train_data[features]\n",
        "y = train_data[target]\n",
        "X_train, X_val, y_train, y_val = train_test_split(X, y, test_size=0.2, random_state=42, stratify=y)\n",
        "\n",
        "# Define hyperparameter grid\n",
        "param_grid = {\n",
        "    'classifier__n_estimators': [50, 100],\n",
        "    'classifier__max_depth': [10, 20, None],\n",
        "    'classifier__min_samples_split': [2, 5],\n",
        "    'classifier__min_samples_leaf': [1, 2]\n",
        "}\n",
        "\n",
        "# Perform GridSearchCV\n",
        "grid_search = GridSearchCV(\n",
        "    pipeline,\n",
        "    param_grid,\n",
        "    cv=3,  # Reduced folds for faster runtime\n",
        "    scoring='f1',\n",
        "    n_jobs=-1,\n",
        "    verbose=1\n",
        ")\n",
        "\n",
        "grid_search.fit(X_train, y_train)\n",
        "\n",
        "# Evaluate the best model\n",
        "best_model = grid_search.best_estimator_\n",
        "y_val_pred = best_model.predict(X_val)\n",
        "\n",
        "# Calculate the F1 score and display the classification report\n",
        "f1 = f1_score(y_val, y_val_pred, pos_label='yes')\n",
        "print(classification_report(y_val, y_val_pred, target_names=['no', 'yes']))\n",
        "\n",
        "# Save the best model\n",
        "joblib.dump(best_model, 'best_model.pkl')\n",
        "print(\"Best model saved as best_model.pkl\")\n",
        "\n",
        "# Predict on the test dataset\n",
        "X_test = test_data[features]\n",
        "test_predictions = best_model.predict(X_test)\n",
        "test_data['y'] = test_predictions"
      ],
      "metadata": {
        "colab": {
          "base_uri": "https://localhost:8080/"
        },
        "id": "ySDMvCxngLFV",
        "outputId": "aa67f046-7674-42f1-ff78-0ee2c4eec875"
      },
      "execution_count": 5,
      "outputs": [
        {
          "output_type": "stream",
          "name": "stdout",
          "text": [
            "Fitting 3 folds for each of 24 candidates, totalling 72 fits\n"
          ]
        },
        {
          "output_type": "stream",
          "name": "stderr",
          "text": [
            "/usr/local/lib/python3.11/dist-packages/sklearn/model_selection/_search.py:1107: UserWarning: One or more of the test scores are non-finite: [nan nan nan nan nan nan nan nan nan nan nan nan nan nan nan nan nan nan\n",
            " nan nan nan nan nan nan]\n",
            "  warnings.warn(\n"
          ]
        },
        {
          "output_type": "stream",
          "name": "stdout",
          "text": [
            "              precision    recall  f1-score   support\n",
            "\n",
            "          no       0.98      0.89      0.93      7421\n",
            "         yes       0.36      0.79      0.50       579\n",
            "\n",
            "    accuracy                           0.88      8000\n",
            "   macro avg       0.67      0.84      0.72      8000\n",
            "weighted avg       0.94      0.88      0.90      8000\n",
            "\n",
            "Best model saved as best_model.pkl\n"
          ]
        }
      ]
    },
    {
      "cell_type": "code",
      "source": [
        "# Save predictions to a CSV file\n",
        "test_data.to_csv('Final 2775.csv', index=False)\n",
        "print(\"Predictions saved to Final 2775.csv\")"
      ],
      "metadata": {
        "colab": {
          "base_uri": "https://localhost:8080/"
        },
        "id": "M1_kp1ySgbut",
        "outputId": "e251ec44-1bea-48f6-c99d-10c206fc3dbb"
      },
      "execution_count": 6,
      "outputs": [
        {
          "output_type": "stream",
          "name": "stdout",
          "text": [
            "Predictions saved to Final 2775.csv\n"
          ]
        }
      ]
    }
  ]
}